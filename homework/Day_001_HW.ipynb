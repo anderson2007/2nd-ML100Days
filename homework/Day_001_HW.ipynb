{
 "cells": [
  {
   "cell_type": "markdown",
   "metadata": {},
   "source": [
    "# 作業1：\n",
    "\n",
    "請上 Kaggle, 在 Competitions 或 Dataset 中找一組競賽或資料並寫下：\n",
    " - https://www.kaggle.com/c/competitive-data-science-predict-future-sales\n",
    "\n",
    "\n",
    "1. 你選的這組資料為何重要\n",
    " - 從過往的銷售紀錄來預測下個月的銷售量與所需庫存，可以減少庫存成本。\n",
    "\n",
    "\n",
    "2. 資料從何而來 (tips: 譬如提供者是誰、以什麼方式蒐集)\n",
    " - 資料來自 one of the largest Russian software firms - 1C Company.\n",
    "\n",
    "\n",
    "3. 蒐集而來的資料型態為何\n",
    " - csv\n",
    "\n",
    "\n",
    "4. 這組資料想解決的問題如何評估\n",
    " - The task is to forecast the total amount of products sold in every shop for the test set. \n",
    " - Creating a robust model that can handle such situations is part of the challenge.\n",
    "\n",
    "\n",
    "\n",
    "# 作業2：\n",
    "\n",
    "想像你經營一個自由載客車隊，你希望能透過數據分析以提升業績，請你思考並描述你如何規劃整體的分析/解決方案：\n",
    "\n",
    "1. 核心問題為何 (tips：如何定義 「提升業績 & 你的假設」)\n",
    " - 夜間加成時，哪裡有較多的客源？\n",
    " - 夜間加成時，哪裡的客人比較有機會坐長途(需再定義\"長途\"的期望距離)？\n",
    " - 以特定地點排班來看，哪個地點、哪個時段，的排班車數最少、最快能載到客人？\n",
    "\n",
    "\n",
    "2. 資料從何而來 (tips：哪些資料可能會對你想問的問題產生影響 & 資料如何蒐集)\n",
    " - 天氣：氣象預報、或是如果有車隊，或許可以在車隊安裝 IoT 接收氣象資料，主要是溫濕度與下雨狀況。\n",
    " - 路況、塞車狀況：或許可以看看 google map 有沒有提供 API。\n",
    " - 台北市大型活動：從台北市政府網站、或是從 FB 的本日活動。\n",
    "\n",
    "\n",
    "3. 蒐集而來的資料型態為何\n",
    " - 氣候、溫溼度：期望拿到數值型態。\n",
    " - 路況：不確定。\n",
    " - 活動資訊：文字資料，需要再加工，要能轉化成 \"人潮聚集程度\" 的數值型態。\n",
    "\n",
    "\n",
    "4. 你要回答的問題，其如何評估 (tips：你的假設如何驗證)\n",
    " - 在相同的時段中、不同的氣候條件下、可以到哪個地點載到最多最有價值的乘客？\n",
    " - 以兩周為周期，評估使用此模型與否，每天的營收差異。\n"
   ]
  },
  {
   "cell_type": "markdown",
   "metadata": {},
   "source": [
    "## 練習時間\n",
    "#### 請寫一個函式用來計算 Mean Square Error\n",
    "$ MSE = \\frac{1}{n}\\sum_{i=1}^{n}{(Y_i - \\hat{Y}_i)^2} $\n",
    "\n",
    "### Hint: [如何取平方](https://googoodesign.gitbooks.io/-ezpython/unit-1.html)"
   ]
  },
  {
   "cell_type": "code",
   "execution_count": 1,
   "metadata": {},
   "outputs": [],
   "source": [
    "import numpy as np\n",
    "import matplotlib.pyplot as plt"
   ]
  },
  {
   "cell_type": "code",
   "execution_count": 2,
   "metadata": {},
   "outputs": [],
   "source": [
    "from sklearn.metrics import mean_absolute_error\n",
    "from sklearn.metrics import mean_squared_error\n",
    "\n",
    "def mean_absolute_error2(y, yp):\n",
    "    \"\"\"\n",
    "    計算 MAE\n",
    "    Args:\n",
    "        - y: 實際值\n",
    "        - yp: 預測值\n",
    "    Return:\n",
    "        - mae: MAE\n",
    "    \"\"\"\n",
    "    mae = MAE = sum(abs(y - yp)) / len(y)\n",
    "    return mae\n",
    "\n",
    "def mean_squared_error2(y, yp):\n",
    "    return sum(pow(y - yp, 2)) / len(y)\n"
   ]
  },
  {
   "cell_type": "code",
   "execution_count": 3,
   "metadata": {},
   "outputs": [
    {
     "data": {
      "image/png": "[encoded data removed]",
      "text/plain": [
       "<Figure size 432x288 with 1 Axes>"
      ]
     },
     "metadata": {
      "needs_background": "light"
     },
     "output_type": "display_data"
    }
   ],
   "source": [
    "w = 3\n",
    "b = 0.5\n",
    "\n",
    "x_lin = np.linspace(0, 100, 101)\n",
    "\n",
    "y = (x_lin + np.random.randn(101) * 5) * w + b\n",
    "\n",
    "plt.plot(x_lin, y, 'b.', label = 'data points')\n",
    "plt.title(\"Assume we have data points\")\n",
    "plt.legend(loc = 2)\n",
    "plt.show()"
   ]
  },
  {
   "cell_type": "code",
   "execution_count": 4,
   "metadata": {},
   "outputs": [
    {
     "data": {
      "image/png": "[encoded data removed]",
      "text/plain": [
       "<Figure size 432x288 with 1 Axes>"
      ]
     },
     "metadata": {
      "needs_background": "light"
     },
     "output_type": "display_data"
    }
   ],
   "source": [
    "y_hat = x_lin * w + b\n",
    "plt.plot(x_lin, y, 'b.', label = 'data')\n",
    "plt.plot(x_lin, y_hat, 'r-', label = 'prediction')\n",
    "plt.title(\"Assume we have data points (And the prediction)\")\n",
    "plt.legend(loc = 2)\n",
    "plt.show()"
   ]
  },
  {
   "cell_type": "code",
   "execution_count": 5,
   "metadata": {},
   "outputs": [
    {
     "name": "stdout",
     "output_type": "stream",
     "text": [
      "The Mean squared error is 274.639\n",
      "The Mean absolute error is 12.835\n",
      "The Mean squared error is 274.639\n",
      "The Mean absolute error is 12.835\n"
     ]
    }
   ],
   "source": [
    "# 執行 Function, 確認有沒有正常執行\n",
    "MSE = mean_squared_error(y, y_hat)\n",
    "MAE = mean_absolute_error(y, y_hat)\n",
    "print(\"The Mean squared error is %.3f\" % (MSE))\n",
    "print(\"The Mean absolute error is %.3f\" % (MAE))\n",
    "\n",
    "MSE2 = mean_squared_error2(y, y_hat)\n",
    "MAE2 = mean_absolute_error2(y, y_hat)\n",
    "print(\"The Mean squared error is %.3f\" % (MSE2))\n",
    "print(\"The Mean absolute error is %.3f\" % (MAE2))"
   ]
  },
  {
   "cell_type": "code",
   "execution_count": null,
   "metadata": {},
   "outputs": [],
   "source": []
  }
 ],
 "metadata": {
  "anaconda-cloud": {},
  "kernelspec": {
   "display_name": "Python 3",
   "language": "python",
   "name": "python3"
  },
  "language_info": {
   "codemirror_mode": {
    "name": "ipython",
    "version": 3
   },
   "file_extension": ".py",
   "mimetype": "text/x-python",
   "name": "python",
   "nbconvert_exporter": "python",
   "pygments_lexer": "ipython3",
   "version": "3.6.4"
  }
 },
 "nbformat": 4,
 "nbformat_minor": 1
}
